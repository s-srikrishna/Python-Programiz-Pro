{
  "nbformat": 4,
  "nbformat_minor": 0,
  "metadata": {
    "colab": {
      "provenance": [],
      "authorship_tag": "ABX9TyNS4A9Ieng7HPoIAK0qaPIE",
      "include_colab_link": true
    },
    "kernelspec": {
      "name": "python3",
      "display_name": "Python 3"
    },
    "language_info": {
      "name": "python"
    }
  },
  "cells": [
    {
      "cell_type": "markdown",
      "metadata": {
        "id": "view-in-github",
        "colab_type": "text"
      },
      "source": [
        "<a href=\"https://colab.research.google.com/github/s-srikrishna/Python-Programiz-Pro/blob/main/1.%20Python_Basics_Programiz_Pro.ipynb\" target=\"_parent\"><img src=\"https://colab.research.google.com/assets/colab-badge.svg\" alt=\"Open In Colab\"/></a>"
      ]
    },
    {
      "cell_type": "markdown",
      "source": [
        "# **`Python Introduction`** 👇🏻"
      ],
      "metadata": {
        "id": "2KUwbpifWa3S"
      }
    },
    {
      "cell_type": "markdown",
      "source": [
        "# First Program in Python"
      ],
      "metadata": {
        "id": "trJ5rz6KxeHu"
      }
    },
    {
      "cell_type": "code",
      "execution_count": null,
      "metadata": {
        "colab": {
          "base_uri": "https://localhost:8080/"
        },
        "id": "YGng5mP4xQt4",
        "outputId": "ef7e5a4e-8c6b-423a-8444-5a06a64b4c77"
      },
      "outputs": [
        {
          "output_type": "stream",
          "name": "stdout",
          "text": [
            "I'm Sri Krishna\n"
          ]
        }
      ],
      "source": [
        "# This is my first Python program.\n",
        "print(\"I'm Sri Krishna\")"
      ]
    },
    {
      "cell_type": "markdown",
      "source": [
        "# Creating and Printing valriables"
      ],
      "metadata": {
        "id": "ZYPnmDUMzpr4"
      }
    },
    {
      "cell_type": "code",
      "source": [
        "# Creating a variable and assigning a value to it.\n",
        "myAge = 22\n",
        "print(f\"Your age is {myAge}\")"
      ],
      "metadata": {
        "colab": {
          "base_uri": "https://localhost:8080/"
        },
        "id": "Ha17OcAoztjO",
        "outputId": "1c140c1f-09cb-4800-bbb4-b88eba3c1204"
      },
      "execution_count": null,
      "outputs": [
        {
          "output_type": "stream",
          "name": "stdout",
          "text": [
            "Your age is 22\n"
          ]
        }
      ]
    },
    {
      "cell_type": "markdown",
      "source": [
        "# Changing the values stored in a variable."
      ],
      "metadata": {
        "id": "SZ2c2g3xz-tH"
      }
    },
    {
      "cell_type": "code",
      "source": [
        "num1 = 5\n",
        "temp = num1\n",
        "num1 = 10\n",
        "print(f\"Num1 new value is {num1}\")\n",
        "print(f\"Temp value is {temp}\")"
      ],
      "metadata": {
        "colab": {
          "base_uri": "https://localhost:8080/"
        },
        "id": "7uZ3Z9c00Bi6",
        "outputId": "20944ca3-4cb1-4a7d-ea6a-2e4b1552f612"
      },
      "execution_count": null,
      "outputs": [
        {
          "output_type": "stream",
          "name": "stdout",
          "text": [
            "Num1 new value is 10\n",
            "Temp value is 5\n"
          ]
        }
      ]
    },
    {
      "cell_type": "markdown",
      "source": [
        "# Swapping two variable values using a temp variable"
      ],
      "metadata": {
        "id": "t3r6lx0k0jdB"
      }
    },
    {
      "cell_type": "code",
      "source": [
        "num1 = 10\n",
        "num2 = 20\n",
        "temp = num1 # assigning value of num1 to temp\n",
        "num1 = num2 # assigning value of num2 to num1\n",
        "num2 = temp # assigning value of temp to num2\n",
        "print(f\"Num1 new value is {num1}\")\n",
        "print(f\"Num2 new value is {num2}\")"
      ],
      "metadata": {
        "colab": {
          "base_uri": "https://localhost:8080/"
        },
        "id": "nCv6HbYb0nHI",
        "outputId": "0a30bcac-3645-4290-947e-3fa99e386158"
      },
      "execution_count": null,
      "outputs": [
        {
          "output_type": "stream",
          "name": "stdout",
          "text": [
            "Num1 new value is 20\n",
            "Num2 new value is 10\n"
          ]
        }
      ]
    },
    {
      "cell_type": "markdown",
      "source": [
        "# Arithmatic Operators"
      ],
      "metadata": {
        "id": "GAX_xrDb1BHF"
      }
    },
    {
      "cell_type": "code",
      "source": [
        "print(f\"Addition of 10 and 5 is : {10+5}\") # addition\n",
        "print(f\"Subtraction of 10 and 5 is : {10-5}\") # subtraction\n",
        "print(f\"Multiplication of 10 and 5 is : {10*5}\") # multiplication\n",
        "print(f\"Division of 10 by 5 is : {10/5}\") # division\n",
        "print(f\"Remainder of 10 by 5 is : {10%5}\") # module / remainder\n",
        "print(f\"Floor Division of 10 by 5 is : {10//5}\") # floor division / quotient\n",
        "print(f\"Value of 5 raised to the power of 2 is : {5**2}\") # exponent"
      ],
      "metadata": {
        "colab": {
          "base_uri": "https://localhost:8080/"
        },
        "id": "1h21qv5n1Exy",
        "outputId": "633e86b7-4c36-44ff-f2ee-44f79cf209a6"
      },
      "execution_count": null,
      "outputs": [
        {
          "output_type": "stream",
          "name": "stdout",
          "text": [
            "Addition of 10 and 5 is : 15\n",
            "Subtraction of 10 and 5 is : 5\n",
            "Multiplication of 10 and 5 is : 50\n",
            "Division of 10 by 5 is : 2.0\n",
            "Remainder of 10 by 5 is : 0\n",
            "Floor Division of 10 by 5 is : 2\n",
            "Value of 5 raised to the power of 2 is : 25\n"
          ]
        }
      ]
    },
    {
      "cell_type": "markdown",
      "source": [
        "# Divide Pens to Students\n",
        "\n",
        "### Difficulty : `Easy`\n",
        "\n",
        "## `Problem Description`\n",
        "\n",
        "## Write a program to divide pens among students.\n",
        "\n",
        "- Suppose you have to divide 14 pens among 3 students equally.\n",
        "- You need to find out how many pens each student would get (if pens must be divided equally), and the number of remaining pens that cannot be divided.\n",
        "- To solve this problem, create a variable named pen_number and assign 14 to it.\n",
        "- Create another variable named student_number and assign 3 to it.\n",
        "- Compute the number of pens each student will get and print it.\n",
        "- Compute the number of remaining pens and print it."
      ],
      "metadata": {
        "id": "ax8_PAQb5U7l"
      }
    },
    {
      "cell_type": "code",
      "source": [
        "number_of_students = int(input(\"Enter the total number of students: \"))\n",
        "number_of_pens = int(input(\"Enter the total number of pens: \"))\n",
        "pen_per_student = number_of_pens // number_of_students\n",
        "remaining_pens = number_of_pens % number_of_students\n",
        "print(f\"Each student will get {pen_per_student} pens and {remaining_pens} pens are remaining.\")"
      ],
      "metadata": {
        "colab": {
          "base_uri": "https://localhost:8080/"
        },
        "id": "iKGFlQkk5nkJ",
        "outputId": "e1546ce4-8216-4d08-fb9c-e153d4ef2c3f"
      },
      "execution_count": null,
      "outputs": [
        {
          "output_type": "stream",
          "name": "stdout",
          "text": [
            "Enter the total number of students: 6\n",
            "Enter the total number of pens: 11\n",
            "Each student will get 1 pens and 5 pens are remaining.\n"
          ]
        }
      ]
    },
    {
      "cell_type": "markdown",
      "source": [
        "# Using the `type()` function"
      ],
      "metadata": {
        "id": "yuwP0XAy9wKd"
      }
    },
    {
      "cell_type": "code",
      "source": [
        "num1 = 5 # integer type\n",
        "num2 = 5.5 # float type\n",
        "name = \"Sri Krishna\" # string type\n",
        "condition = True # boolean type\n",
        "print(f\"The type of num1 is {type(num1)}\")\n",
        "print(f\"The type of num2 is {type(num2)}\")\n",
        "print(f\"The type of name is {type(name)}\")\n",
        "print(f\"The type of condition is {type(condition)}\")"
      ],
      "metadata": {
        "colab": {
          "base_uri": "https://localhost:8080/"
        },
        "id": "At3rEFVs92BT",
        "outputId": "530350e9-0d9f-44de-f324-ff48147a6baa"
      },
      "execution_count": null,
      "outputs": [
        {
          "output_type": "stream",
          "name": "stdout",
          "text": [
            "The type of num1 is <class 'int'>\n",
            "The type of num2 is <class 'float'>\n",
            "The type of name is <class 'str'>\n",
            "The type of condition is <class 'bool'>\n"
          ]
        }
      ]
    },
    {
      "cell_type": "markdown",
      "source": [
        "# Type Conversion"
      ],
      "metadata": {
        "id": "48LWeqcv-uGF"
      }
    },
    {
      "cell_type": "code",
      "source": [
        "num1 = 10\n",
        "num2 = float(num1)\n",
        "print(f\"The type of num1 is {type(num1)}\")\n",
        "print(f\"The type of num2 is {type(num2)}\")"
      ],
      "metadata": {
        "colab": {
          "base_uri": "https://localhost:8080/"
        },
        "id": "IW1RKsNQ-v-e",
        "outputId": "59e183ba-2d4c-477b-8742-bb2f7d25c599"
      },
      "execution_count": null,
      "outputs": [
        {
          "output_type": "stream",
          "name": "stdout",
          "text": [
            "The type of num1 is <class 'int'>\n",
            "The type of num2 is <class 'float'>\n"
          ]
        }
      ]
    },
    {
      "cell_type": "markdown",
      "source": [
        "# **`Python Introduction Examples`** 👇🏻"
      ],
      "metadata": {
        "id": "u-r80QXrWJdj"
      }
    },
    {
      "cell_type": "markdown",
      "source": [
        "# Split Bill Among Friends\n",
        "\n",
        "## Difficulty - `Medium`\n",
        "\n",
        "# `Problem Description`\n",
        "\n",
        "## Create a program to split the restaurant bill among friends.\n",
        "\n",
        "- Get an integer input for the total number of friends and assign it to the total_friends variable.\n",
        "- Get an integer input for the restaurant bill and assign it to the bill variable.\n",
        "- Calculate the tax amount, which is 20% of the bill.\n",
        "- Add the tax to the bill and divide the total bill among friends."
      ],
      "metadata": {
        "id": "mTQFhBlUWsKn"
      }
    },
    {
      "cell_type": "code",
      "source": [
        "# get input value for total number of friends\n",
        "friends = int(input(\"Enter how many friends went to dine: \"))\n",
        "\n",
        "# get input value for bill\n",
        "bill = int(input(\"Enter the total bill received: \"))\n",
        "\n",
        "# calculate the tax amount\n",
        "tax = 0.2 * bill\n",
        "\n",
        "# divide the total bill among friends\n",
        "total_bill = (bill + tax) / (friends)\n",
        "\n",
        "# print the split amount\n",
        "print(f\"The split for a group of {friends} friends dined for a bill of {bill}, per head is {total_bill}\")"
      ],
      "metadata": {
        "colab": {
          "base_uri": "https://localhost:8080/"
        },
        "id": "pmEUs0E3W_KW",
        "outputId": "be0ee38a-0937-4126-d659-7d0c108809df"
      },
      "execution_count": null,
      "outputs": [
        {
          "output_type": "stream",
          "name": "stdout",
          "text": [
            "Enter how many friends went to dine: 10\n",
            "Enter the total bill received: 50000\n",
            "The split for a group of 10 friends dined for a bill of 50000, per head is 6000.0\n"
          ]
        }
      ]
    },
    {
      "cell_type": "markdown",
      "source": [
        "# Calculate Profit/Loss Amount\n",
        "\n",
        "## Difficulty - `Easy`\n",
        "\n",
        "# `Problem Description`\n",
        "\n",
        "## Create a program to find the profit/loss amount of a shop.\n",
        "\n",
        "- Get two input integers cost_price and selling_price.\n",
        "- alculate the profit or loss amount (i.e. selling_price - cost_price).\n",
        "- Note: Negative means it's a loss."
      ],
      "metadata": {
        "id": "Pq_BZYd9Xzat"
      }
    },
    {
      "cell_type": "code",
      "source": [
        "# get two input integers for cost_price and selling_price\n",
        "cost_price = int(input(\"Enter the CP: \"))\n",
        "selling_price = int(input(\"Enter the SP: \"))\n",
        "\n",
        "# calculate profit or loss amount and print it\n",
        "net_profit = selling_price - cost_price\n",
        "print(f\"The net gain for an article with a CP {cost_price} and SP {selling_price} is {net_profit}.\")"
      ],
      "metadata": {
        "colab": {
          "base_uri": "https://localhost:8080/"
        },
        "id": "OnK-dpUVX-6v",
        "outputId": "357fccd3-af64-4444-f728-e4a9962f3fde"
      },
      "execution_count": null,
      "outputs": [
        {
          "output_type": "stream",
          "name": "stdout",
          "text": [
            "Enter the CP: 200\n",
            "Enter the SP: 300\n",
            "The net gain for an article with a CP 200 and SP 300 is 100.\n"
          ]
        }
      ]
    },
    {
      "cell_type": "markdown",
      "source": [
        "# BMI Calculator\n",
        "\n",
        "## Difficulty - `Medium`\n",
        "\n",
        "# `Problem Description`\n",
        "\n",
        "## Create a program to find the BMI of a person.\n",
        "\n",
        "- The formula to compute the BMI of a person is: `BMI = weight / height**2`\n",
        "- Take a float input for the weight of a person (in kg) and assign it to the weight variable.\n",
        "- Take a float type input for the height of the person (in meter) and assign it to the height variable.\n",
        "- Use the formula to calculate the BMI.\n",
        "- Print the BMI of the person."
      ],
      "metadata": {
        "id": "fDQ1rqxigFMp"
      }
    },
    {
      "cell_type": "code",
      "source": [
        "# take float input for weight\n",
        "weight = float(input(\"Enter the weight: \"))\n",
        "\n",
        "# take float input for height\n",
        "height = float(input(\"Enter the height: \"))\n",
        "\n",
        "# calculate BMI\n",
        "BMI = (weight) / (height**2)\n",
        "\n",
        "# print the calculated BMI\n",
        "print(f\"The BMI of the person with height, {weight} and weight, {height} is {BMI}\")"
      ],
      "metadata": {
        "colab": {
          "base_uri": "https://localhost:8080/"
        },
        "id": "ULBdtogcgTYF",
        "outputId": "8b4e45c2-6374-4e81-872d-ada235181a42"
      },
      "execution_count": null,
      "outputs": [
        {
          "output_type": "stream",
          "name": "stdout",
          "text": [
            "Enter the weight: 85\n",
            "Enter the height: 75\n",
            "The BMI of the person with height, 85.0 and weight, 75.0 is 0.015111111111111112\n"
          ]
        }
      ]
    },
    {
      "cell_type": "markdown",
      "source": [
        "# Minutes to Seconds\n",
        "\n",
        "## Difficulty - `Easy`\n",
        "\n",
        "# `Problem Description`\n",
        "\n",
        "## Create a program to convert minutes into seconds.\n",
        "\n",
        "- Get an integer input time_minutes.\n",
        "- Convert time_minutes into seconds by multiplying it with 60. (1 minute = 60 seconds).\n",
        "- Print the result in seconds."
      ],
      "metadata": {
        "id": "3GC1leuljRmi"
      }
    },
    {
      "cell_type": "code",
      "source": [
        "# get an input integer\n",
        "time_minutes = int(input(\"Enter the time in minutes: \"))\n",
        "\n",
        "# convert time_minutes into second\n",
        "time_seconds = 60 * time_minutes\n",
        "\n",
        "# print the result\n",
        "print(f\"The time in seconds is {time_seconds}\")"
      ],
      "metadata": {
        "colab": {
          "base_uri": "https://localhost:8080/"
        },
        "id": "jVDuGfsDjF9J",
        "outputId": "82a05c60-a1f5-472c-c0ca-0ba0d0882286"
      },
      "execution_count": null,
      "outputs": [
        {
          "output_type": "stream",
          "name": "stdout",
          "text": [
            "Enter the time in minutes: 2\n",
            "The time in seconds is 120\n"
          ]
        }
      ]
    },
    {
      "cell_type": "markdown",
      "source": [
        "# Simple Interest\n",
        "\n",
        "## Difficulty - `Easy`\n",
        "\n",
        "# `Problem Description`\n",
        "\n",
        "## Create a program to calculate the simple interest and the final amount.\n",
        "\n",
        "- Use the following formula to calculate the interest and final amount:\n",
        "\n",
        "    `Simple Interest = P * R * T * .01`\n",
        "\n",
        "    `Final Amount = P + Simple Interest`\n",
        "- Here, P is the principal amount, R is the rate of interest and T is the time in years.\n",
        "- Take float input for principal, rate and time, respectively.\n",
        "- Calculate the simple interest using the formula and store the result in interest.\n",
        "- Calculate the final amount using the formula and store it in total_sum.\n",
        "- Print interest and total_sum in separate lines."
      ],
      "metadata": {
        "id": "h-JAB7dCmHuz"
      }
    },
    {
      "cell_type": "code",
      "source": [
        "# take float input for principal, rate, and time\n",
        "principal = float(input(\"Enter the Pricipal: \"))\n",
        "rate = float(input(\"Enter the Rate: \"))\n",
        "time = float(input(\"Enter the Time: \"))\n",
        "\n",
        "# calculate the simple interest\n",
        "simple_interest = principal * rate * time * 0.01\n",
        "\n",
        "# calculate the final amount\n",
        "total_sum = principal + simple_interest\n",
        "\n",
        "# print interest and total_sum in separate lines\n",
        "print(f\"The simple interest is {simple_interest}.\")\n",
        "print(f\"The total sum is {total_sum}.\")"
      ],
      "metadata": {
        "colab": {
          "base_uri": "https://localhost:8080/"
        },
        "id": "XsOcgJrvmwXC",
        "outputId": "e4d59490-b0ea-455c-94e9-8dd92d189d7a"
      },
      "execution_count": null,
      "outputs": [
        {
          "output_type": "stream",
          "name": "stdout",
          "text": [
            "Enter the Pricipal: 1000\n",
            "Enter the Rate: 5\n",
            "Enter the Time: 2\n",
            "The simple interest is 100.0.\n",
            "The total sum is 1100.0.\n"
          ]
        }
      ]
    },
    {
      "cell_type": "markdown",
      "source": [
        "# Area of a Triangle\n",
        "\n",
        "## Difficulty - `Easy`\n",
        "\n",
        "# `Problem Description`\n",
        "\n",
        "## Create a program to find the area of a right angled triangle.\n",
        "\n",
        "- The area of a right angled triangle is given by : `area = 1/2 * base * height`\n",
        "- Take two float inputs for base and height variables.\n",
        "- Calculate the area of the triangle using the given formula and assign it to area.\n",
        "- Print the value of area."
      ],
      "metadata": {
        "id": "L0SoII0DoHeB"
      }
    },
    {
      "cell_type": "code",
      "source": [
        "# take input for base and height\n",
        "base = float(input(\"Enter the base: \"))\n",
        "height = float(input(\"Enter the height: \"))\n",
        "\n",
        "# calculate the area\n",
        "area = 1/2 * base * height\n",
        "\n",
        "# print area\n",
        "print(f\"The area of traingle is {area}.\")"
      ],
      "metadata": {
        "colab": {
          "base_uri": "https://localhost:8080/"
        },
        "id": "C9EjcHXVog-M",
        "outputId": "d8cf1f0d-d9e8-4d19-87fb-df16d0bc977e"
      },
      "execution_count": null,
      "outputs": [
        {
          "output_type": "stream",
          "name": "stdout",
          "text": [
            "Enter the base: 8\n",
            "Enter the height: 4\n",
            "The area of traingle is 16.0.\n"
          ]
        }
      ]
    },
    {
      "cell_type": "markdown",
      "source": [
        "# Average of Numbers\n",
        "\n",
        "## Difficulty - `Easy`\n",
        "\n",
        "# `Problem Description`\n",
        "\n",
        "## Create a program to find the average of three numbers entered by the user.\n",
        "\n",
        "- The average of 3 numbers a, b, and c is given by: `average = (a + b + c) / 3`\n",
        "- Take float input for three variables number1, number2, and number3.\n",
        "- Calculate the average using the formula and print it."
      ],
      "metadata": {
        "id": "z69O6CuoqfdU"
      }
    },
    {
      "cell_type": "code",
      "source": [
        "# take three float input for number1, number2, number3 respectively\n",
        "number1 = float(input(\"Enter number 1: \"))\n",
        "number2 = float(input(\"Enter number 2: \"))\n",
        "number3 = float(input(\"Enter number 3: \"))\n",
        "\n",
        "# find the average using formula\n",
        "average = (number1 + number2 + number3) / 3\n",
        "\n",
        "# print calculated average\n",
        "print(f\"The average is {average}.\")"
      ],
      "metadata": {
        "colab": {
          "base_uri": "https://localhost:8080/"
        },
        "id": "yDGEnVcbrMD7",
        "outputId": "ac2a6ec6-1ed0-4eb9-c2e9-417124e6682e"
      },
      "execution_count": null,
      "outputs": [
        {
          "output_type": "stream",
          "name": "stdout",
          "text": [
            "Enter number 1: 8\n",
            "Enter number 2: 8\n",
            "Enter number 3: 8\n",
            "The average is 8.0.\n"
          ]
        }
      ]
    },
    {
      "cell_type": "markdown",
      "source": [
        "# Divide Pens\n",
        "\n",
        "## Difficulty - `Medium`\n",
        "\n",
        "# `Problem Description`\n",
        "\n",
        "## Create a program to divide N pens among M students.\n",
        "\n",
        "- Get an integer value for the number of pens and assign it to the number_of_pens variable.\n",
        "Get an integer input for the number of students and assign it to the number_of_students variable.\n",
        "Find the number of pens each student gets after division and print it.\n",
        "Find the number of remaining pens and print it.\n",
        "Assumption: The number of chocolates will always be greater than the number of children."
      ],
      "metadata": {
        "id": "OL5qcwf9rtJT"
      }
    },
    {
      "cell_type": "code",
      "source": [
        "number_of_students = int(input(\"Enter the total number of students: \"))\n",
        "number_of_pens = int(input(\"Enter the total number of pens: \"))\n",
        "pen_per_student = number_of_pens // number_of_students\n",
        "remaining_pens = number_of_pens % number_of_students\n",
        "print(f\"Each student will get {pen_per_student} pens and {remaining_pens} pens are remaining.\")"
      ],
      "metadata": {
        "colab": {
          "base_uri": "https://localhost:8080/"
        },
        "id": "TcGV45uosM4H",
        "outputId": "d7081073-50b8-4044-aea0-791a5093e031"
      },
      "execution_count": null,
      "outputs": [
        {
          "output_type": "stream",
          "name": "stdout",
          "text": [
            "Enter the total number of students: 6\n",
            "Enter the total number of pens: 6\n",
            "Each student will get 1 pens and 0 pens are remaining.\n"
          ]
        }
      ]
    },
    {
      "cell_type": "markdown",
      "source": [
        "# Swap Two Numbers\n",
        "\n",
        "## Difficulty - `Medium`\n",
        "\n",
        "# `Problem Description`\n",
        "\n",
        "## Create a program to swap two integers entered by the user.\n",
        "\n",
        "- Get two integer user inputs in variables n1 and n2.\n",
        "- Swap the values of these two variables using a temporary variable temp.\n",
        "- Print the values of n1 and n2."
      ],
      "metadata": {
        "id": "-Kv4rCGw416C"
      }
    },
    {
      "cell_type": "code",
      "source": [
        "# get the integer inputs for n1 and n2\n",
        "n1 = int(input(\"Enter Number 1: \"))\n",
        "n2 = int(input(\"Enter Number 2: \"))\n",
        "\n",
        "# create a temporary variable and swap the values\n",
        "temp = n1\n",
        "n1 = n2\n",
        "n2 = temp\n",
        "\n",
        "# print the values of n1 and n2\n",
        "print(f\"Number 1 value is {n1}\")\n",
        "print(f\"Number 2 value is {n2}\")"
      ],
      "metadata": {
        "colab": {
          "base_uri": "https://localhost:8080/"
        },
        "id": "vCjiN0aT5Z0O",
        "outputId": "11609ee6-1fe0-4c74-bb70-e8d4898a5be8"
      },
      "execution_count": null,
      "outputs": [
        {
          "output_type": "stream",
          "name": "stdout",
          "text": [
            "Enter Number 1: 10\n",
            "Enter Number 2: 20\n",
            "Number 1 value is 20\n",
            "Number 2 value is 10\n"
          ]
        }
      ]
    }
  ]
}